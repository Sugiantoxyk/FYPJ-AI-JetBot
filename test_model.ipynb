{
 "cells": [
  {
   "cell_type": "code",
   "execution_count": null,
   "metadata": {},
   "outputs": [],
   "source": [
    "# Creating live camera display\n",
    "\n",
    "import traitlets\n",
    "from IPython.display import display\n",
    "import ipywidgets.widgets as widgets\n",
    "from jetbot import Camera, bgr8_to_jpeg\n",
    "\n",
    "camera = Camera.instance(width=224, height=224)\n",
    "image = widgets.Image(format='jpeg', width=224, height=224)\n",
    "\n",
    "camera_link = traitlets.dlink((camera, 'value'), (image, 'value'), transform=bgr8_to_jpeg)\n",
    "\n",
    "display(widgets.HBox([image]))"
   ]
  },
  {
   "cell_type": "code",
   "execution_count": null,
   "metadata": {},
   "outputs": [],
   "source": [
    "from jetbot import Robot\n",
    "\n",
    "robot = Robot()"
   ]
  },
  {
   "cell_type": "code",
   "execution_count": null,
   "metadata": {},
   "outputs": [],
   "source": [
    "# Creating function to interprete the image and output predictions\n",
    "\n",
    "import numpy as np\n",
    "import tensorflow as tf\n",
    "import time\n",
    "import PIL\n",
    "import io\n",
    "\n",
    "category = [\"Left\", \"Middle\", \"Right\"]\n",
    "prediction = \"\"\n",
    "\n",
    "# Load TFLite model and allocate tensors.\n",
    "interpreter = tf.lite.Interpreter(model_path=\"trace60.tflite\")\n",
    "interpreter.allocate_tensors()\n",
    "\n",
    "# Get input and output tensors.\n",
    "input_details = interpreter.get_input_details()\n",
    "output_details = interpreter.get_output_details()\n",
    "\n",
    "def update(change):\n",
    "    img = change['new']\n",
    "    \n",
    "    # Line Tracing\n",
    "    img = PIL.Image.open(io.BytesIO(image.value)).convert('L').resize((224, 224)) # .convert('L') changes image into grayscale\n",
    "    img = np.array(img).astype(np.float32)\n",
    "    img = img.reshape(1,224,224,1)\n",
    "    \n",
    "    interpreter.set_tensor(input_details[0]['index'], img)\n",
    "\n",
    "    interpreter.invoke()\n",
    "    output_data = interpreter.get_tensor(output_details[0]['index'])\n",
    "    index_predicted = np.argmax(output_data[0])\n",
    "    \n",
    "    global prediction\n",
    "    \n",
    "    if category[index_predicted] != prediction:\n",
    "        print(category[index_predicted])\n",
    "        prediction = category[index_predicted]\n",
    "    \n",
    "    if index_predicted == 0:\n",
    "        #robot.left(0.3)\n",
    "        robot.left_motor.value = 0\n",
    "        robot.right_motor.value = 0.3\n",
    "    elif index_predicted == 1:\n",
    "        #robot.forward(0.3)\n",
    "        robot.left_motor.value = 0.3\n",
    "        robot.right_motor.value = 0.3\n",
    "    elif index_predicted == 2:\n",
    "        #robot.right(0.3)\n",
    "        robot.left_motor.value = 0.3\n",
    "        robot.right_motor.value = 0\n",
    "    \n",
    "    time.sleep(0.001)"
   ]
  },
  {
   "cell_type": "code",
   "execution_count": null,
   "metadata": {},
   "outputs": [],
   "source": [
    "update({'new': camera.value})  # we call the function once to intialize"
   ]
  },
  {
   "cell_type": "code",
   "execution_count": null,
   "metadata": {},
   "outputs": [],
   "source": [
    "camera.observe(update, names='value') # this attaches the 'update' function to the 'value' traitlet of our camera"
   ]
  },
  {
   "cell_type": "code",
   "execution_count": null,
   "metadata": {},
   "outputs": [],
   "source": [
    "camera.unobserve(update, names='value')\n",
    "robot.stop()"
   ]
  }
 ],
 "metadata": {
  "kernelspec": {
   "display_name": "Python 3",
   "language": "python",
   "name": "python3"
  },
  "language_info": {
   "codemirror_mode": {
    "name": "ipython",
    "version": 3
   },
   "file_extension": ".py",
   "mimetype": "text/x-python",
   "name": "python",
   "nbconvert_exporter": "python",
   "pygments_lexer": "ipython3",
   "version": "3.6.7"
  }
 },
 "nbformat": 4,
 "nbformat_minor": 2
}
